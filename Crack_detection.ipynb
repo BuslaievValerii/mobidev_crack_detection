{
 "cells": [
  {
   "cell_type": "markdown",
   "id": "6eeed440-25ca-4640-afa0-a96d96de2940",
   "metadata": {},
   "source": [
    "# Cracks detection"
   ]
  },
  {
   "cell_type": "markdown",
   "id": "8ab1f915-bc6b-4f66-ad71-896c456e9468",
   "metadata": {},
   "source": [
    "Firstly, we shall import all the necessary packages."
   ]
  },
  {
   "cell_type": "code",
   "execution_count": 1,
   "id": "20c97e18-38c6-4afd-8d7c-15e7a2f825ce",
   "metadata": {},
   "outputs": [],
   "source": [
    "import os\n",
    "import cv2\n",
    "import numpy as np\n",
    "from matplotlib import pyplot as plt\n",
    "from sklearn.model_selection import train_test_split\n",
    "from sklearn import metrics\n",
    "\n",
    "from keras import Input\n",
    "from keras.utils import to_categorical\n",
    "from keras.models import Sequential, load_model\n",
    "from keras.layers import Conv2D, MaxPooling2D, AveragePooling2D, Dropout, BatchNormalization, Dense, Flatten"
   ]
  },
  {
   "cell_type": "markdown",
   "id": "97cc7051-3106-43fd-8c90-668b50934c42",
   "metadata": {},
   "source": [
    "Now, let's check whether the train dataset is balanced."
   ]
  },
  {
   "cell_type": "code",
   "execution_count": 2,
   "id": "79574a97-fee4-4ef4-9b01-97f90fcfdb94",
   "metadata": {},
   "outputs": [
    {
     "name": "stdout",
     "output_type": "stream",
     "text": [
      "There are 455 photos with anomalies and 14545 without them\n"
     ]
    }
   ],
   "source": [
    "num_anomaly = len(os.listdir(\"train/anomaly\"))\n",
    "num_normal  = len(os.listdir(\"train/normal\"))\n",
    "\n",
    "print(f\"There are {num_anomaly} photos with anomalies and {num_normal} without them\")"
   ]
  },
  {
   "cell_type": "markdown",
   "id": "afc9cd9e-e5c1-443c-af6a-db5cdd2a3a76",
   "metadata": {},
   "source": [
    "As we may see, the training dataset is strongly unbalanced. That's why we are not going to use all the given data, but rather two balanced classes. For that purpose, we will take all the data from the smaller class, which is 455 photos, and three times more of the bigger class, which is 455*3=1365 randomly taken photos. That gives us 1820 photos in the training dataset."
   ]
  },
  {
   "cell_type": "code",
   "execution_count": 3,
   "id": "fa085e8e-c9ae-469a-85bf-c86966604c50",
   "metadata": {},
   "outputs": [],
   "source": [
    "X, Y = [], []\n",
    "for f in os.listdir(\"train/anomaly\"):\n",
    "    img = cv2.imread(f\"train/anomaly/{f}\")\n",
    "    X.append(img)\n",
    "    Y.append(1)\n",
    "\n",
    "normal_full = os.listdir(\"train/normal\")\n",
    "indices = np.random.choice(len(normal_full), size=num_anomaly*3)\n",
    "normal_sample = [normal_full[i] for i in indices]\n",
    "\n",
    "for f in normal_sample:\n",
    "    img = cv2.imread(f\"train/normal/{f}\")\n",
    "    X.append(img)\n",
    "    Y.append(0)  \n",
    "Y = to_categorical(Y)\n",
    "\n",
    "X, Y = np.array(X), np.array(Y)"
   ]
  },
  {
   "cell_type": "markdown",
   "id": "6ace4745-d49c-4c40-af13-13c2fec7921e",
   "metadata": {},
   "source": [
    "Here we are going to set general hyperparameters."
   ]
  },
  {
   "cell_type": "code",
   "execution_count": 4,
   "id": "1a22ec06-5eb9-48bc-a767-86c1faff4a28",
   "metadata": {},
   "outputs": [],
   "source": [
    "IMG_ROWS, IMG_COLS = 227, 227\n",
    "BATCH_SIZE = 32\n",
    "NUM_EPOCHS = 10"
   ]
  },
  {
   "cell_type": "markdown",
   "id": "cf1cdc49-b750-4316-9c84-f5a3552e710d",
   "metadata": {},
   "source": [
    "And finally, build our computer vision model."
   ]
  },
  {
   "cell_type": "code",
   "execution_count": 5,
   "id": "90fc75bb-9945-4688-bf90-f01a04b56f20",
   "metadata": {},
   "outputs": [],
   "source": [
    "def build_lenet():\n",
    "    model = Sequential()\n",
    "\n",
    "    model.add(Input(shape=(IMG_ROWS, IMG_COLS, 3)))\n",
    "    model.add(Conv2D(6, (3, 3), activation='relu'))\n",
    "    model.add(AveragePooling2D(pool_size=(2,2)))\n",
    "    \n",
    "    model.add(Conv2D(16, (3, 3), activation='relu'))\n",
    "    model.add(AveragePooling2D(pool_size=(2,2)))\n",
    "    \n",
    "    model.add(Flatten()) \n",
    "    model.add(Dense(120, activation='relu'))\n",
    "    model.add(Dense(84, activation='relu'))\n",
    "    model.add(Dense(2, activation = 'softmax'))\n",
    "\n",
    "    model.compile(optimizer='adam',\n",
    "                  loss='binary_crossentropy',\n",
    "                  metrics=['accuracy', 'precision', 'recall', 'f1_score'])\n",
    "    return model"
   ]
  },
  {
   "cell_type": "markdown",
   "id": "b63ee907-499a-4e11-806b-b6061873a8c2",
   "metadata": {},
   "source": [
    "It is easy to see that we chose the LeNet architecture and recreated it from scratch, layer by layer. We did so, because the problem we are solving is a simple binary classification with rather small images, so a simple architecture like this one may prove effective.\n",
    "\n",
    "Now, we will train our model on the previously collected data."
   ]
  },
  {
   "cell_type": "code",
   "execution_count": 6,
   "id": "bafb02a5-7583-43e3-bb79-d9c04952b543",
   "metadata": {},
   "outputs": [
    {
     "name": "stdout",
     "output_type": "stream",
     "text": [
      "Epoch 1/10\n",
      "\u001b[1m43/43\u001b[0m \u001b[32m━━━━━━━━━━━━━━━━━━━━\u001b[0m\u001b[37m\u001b[0m \u001b[1m4s\u001b[0m 71ms/step - accuracy: 0.6311 - f1_score: 0.4854 - loss: 109.6480 - precision: 0.6311 - recall: 0.6311 - val_accuracy: 0.9758 - val_f1_score: 0.4939 - val_loss: 0.2561 - val_precision: 0.9758 - val_recall: 0.9758\n",
      "Epoch 2/10\n",
      "\u001b[1m43/43\u001b[0m \u001b[32m━━━━━━━━━━━━━━━━━━━━\u001b[0m\u001b[37m\u001b[0m \u001b[1m3s\u001b[0m 65ms/step - accuracy: 0.9672 - f1_score: 0.9619 - loss: 0.1624 - precision: 0.9672 - recall: 0.9672 - val_accuracy: 0.9934 - val_f1_score: 0.4983 - val_loss: 0.1143 - val_precision: 0.9934 - val_recall: 0.9934\n",
      "Epoch 3/10\n",
      "\u001b[1m43/43\u001b[0m \u001b[32m━━━━━━━━━━━━━━━━━━━━\u001b[0m\u001b[37m\u001b[0m \u001b[1m3s\u001b[0m 65ms/step - accuracy: 0.9789 - f1_score: 0.9770 - loss: 0.0964 - precision: 0.9789 - recall: 0.9789 - val_accuracy: 0.9956 - val_f1_score: 0.4989 - val_loss: 0.0265 - val_precision: 0.9956 - val_recall: 0.9956\n",
      "Epoch 4/10\n",
      "\u001b[1m43/43\u001b[0m \u001b[32m━━━━━━━━━━━━━━━━━━━━\u001b[0m\u001b[37m\u001b[0m \u001b[1m3s\u001b[0m 65ms/step - accuracy: 0.9878 - f1_score: 0.9861 - loss: 0.0424 - precision: 0.9878 - recall: 0.9878 - val_accuracy: 0.9956 - val_f1_score: 0.4989 - val_loss: 0.0561 - val_precision: 0.9956 - val_recall: 0.9956\n",
      "Epoch 5/10\n",
      "\u001b[1m43/43\u001b[0m \u001b[32m━━━━━━━━━━━━━━━━━━━━\u001b[0m\u001b[37m\u001b[0m \u001b[1m3s\u001b[0m 65ms/step - accuracy: 0.9914 - f1_score: 0.9899 - loss: 0.0376 - precision: 0.9914 - recall: 0.9914 - val_accuracy: 0.9956 - val_f1_score: 0.4989 - val_loss: 0.0253 - val_precision: 0.9956 - val_recall: 0.9956\n",
      "Epoch 6/10\n",
      "\u001b[1m43/43\u001b[0m \u001b[32m━━━━━━━━━━━━━━━━━━━━\u001b[0m\u001b[37m\u001b[0m \u001b[1m3s\u001b[0m 65ms/step - accuracy: 0.9936 - f1_score: 0.9926 - loss: 0.0298 - precision: 0.9936 - recall: 0.9936 - val_accuracy: 0.9978 - val_f1_score: 0.4994 - val_loss: 0.0167 - val_precision: 0.9978 - val_recall: 0.9978\n",
      "Epoch 7/10\n",
      "\u001b[1m43/43\u001b[0m \u001b[32m━━━━━━━━━━━━━━━━━━━━\u001b[0m\u001b[37m\u001b[0m \u001b[1m3s\u001b[0m 65ms/step - accuracy: 0.9952 - f1_score: 0.9944 - loss: 0.0230 - precision: 0.9952 - recall: 0.9952 - val_accuracy: 0.9956 - val_f1_score: 0.4989 - val_loss: 0.0206 - val_precision: 0.9956 - val_recall: 0.9956\n",
      "Epoch 8/10\n",
      "\u001b[1m43/43\u001b[0m \u001b[32m━━━━━━━━━━━━━━━━━━━━\u001b[0m\u001b[37m\u001b[0m \u001b[1m3s\u001b[0m 65ms/step - accuracy: 0.9982 - f1_score: 0.9979 - loss: 0.0196 - precision: 0.9982 - recall: 0.9982 - val_accuracy: 0.9956 - val_f1_score: 0.4989 - val_loss: 0.0274 - val_precision: 0.9956 - val_recall: 0.9956\n",
      "Epoch 9/10\n",
      "\u001b[1m43/43\u001b[0m \u001b[32m━━━━━━━━━━━━━━━━━━━━\u001b[0m\u001b[37m\u001b[0m \u001b[1m3s\u001b[0m 65ms/step - accuracy: 0.9980 - f1_score: 0.9976 - loss: 0.0149 - precision: 0.9980 - recall: 0.9980 - val_accuracy: 0.9956 - val_f1_score: 0.4989 - val_loss: 0.0151 - val_precision: 0.9956 - val_recall: 0.9956\n",
      "Epoch 10/10\n",
      "\u001b[1m43/43\u001b[0m \u001b[32m━━━━━━━━━━━━━━━━━━━━\u001b[0m\u001b[37m\u001b[0m \u001b[1m3s\u001b[0m 65ms/step - accuracy: 0.9980 - f1_score: 0.9978 - loss: 0.0105 - precision: 0.9980 - recall: 0.9980 - val_accuracy: 0.9956 - val_f1_score: 0.4989 - val_loss: 0.0243 - val_precision: 0.9956 - val_recall: 0.9956\n"
     ]
    }
   ],
   "source": [
    "lenet = build_lenet()\n",
    "lenet.fit(X, Y, epochs=NUM_EPOCHS, batch_size=BATCH_SIZE, verbose=1, validation_split=0.25, shuffle=True)\n",
    "lenet.save(\"lenet.keras\")"
   ]
  },
  {
   "cell_type": "markdown",
   "id": "4098dce4-ae21-4d31-97ce-682aa63b2eec",
   "metadata": {},
   "source": [
    "Here are functions to load test data and visualize predicted results, which we will use later."
   ]
  },
  {
   "cell_type": "code",
   "execution_count": 7,
   "id": "5102006d-b399-4c04-9661-97f0bc44679f",
   "metadata": {},
   "outputs": [],
   "source": [
    "def load_test_data(path):\n",
    "    X, Y = [], []\n",
    "    for f in os.listdir(f\"{path}/anomaly\"):\n",
    "        img = cv2.imread(f\"{path}/anomaly/{f}\")\n",
    "        X.append(img)\n",
    "        Y.append(1)\n",
    "    \n",
    "    for f in os.listdir(f\"{path}/normal\"):\n",
    "        img = cv2.imread(f\"{path}/normal/{f}\")\n",
    "        X.append(img)\n",
    "        Y.append(0)  \n",
    "    Y = to_categorical(Y)\n",
    "    \n",
    "    X, Y = np.array(X), np.array(Y)\n",
    "    return X, Y"
   ]
  },
  {
   "cell_type": "code",
   "execution_count": 8,
   "id": "12eccbda-19d0-4c9f-87f1-05b3c8b8cff0",
   "metadata": {},
   "outputs": [],
   "source": [
    "def visualize_result(actual, predicted):\n",
    "    confusion_matrix = metrics.confusion_matrix(actual, predicted)\n",
    "    cm_display = metrics.ConfusionMatrixDisplay(confusion_matrix = confusion_matrix, display_labels = [\"normal\", \"anomaly\"])\n",
    "    cm_display.plot()\n",
    "    plt.show()\n",
    "\n",
    "    accuracy = metrics.accuracy_score(actual, predicted)\n",
    "    precision = metrics.precision_score(actual, predicted)\n",
    "    recall = metrics.recall_score(actual, predicted)\n",
    "    f1 = metrics.f1_score(actual, predicted)\n",
    "\n",
    "    print(f\"Accuracy:  {accuracy}\")\n",
    "    print(f\"Precision: {precision}\")\n",
    "    print(f\"Recall:    {recall}\")\n",
    "    print(f\"F1 score:  {f1}\")"
   ]
  },
  {
   "cell_type": "markdown",
   "id": "c7b154b7-8670-40c6-acf9-759c834a99b0",
   "metadata": {},
   "source": [
    "Let's first use the balanced validation dataset to understand whether our model is working properly in general."
   ]
  },
  {
   "cell_type": "code",
   "execution_count": 9,
   "id": "8ccd951e-b23c-4231-b0fe-de53c881dd67",
   "metadata": {},
   "outputs": [
    {
     "name": "stdout",
     "output_type": "stream",
     "text": [
      "\u001b[1m63/63\u001b[0m \u001b[32m━━━━━━━━━━━━━━━━━━━━\u001b[0m\u001b[37m\u001b[0m \u001b[1m1s\u001b[0m 11ms/step\n"
     ]
    }
   ],
   "source": [
    "X_valid, Y_valid = load_test_data(\"valid_balanced\")\n",
    "if 'lenet' in globals():\n",
    "    Y_predicted = lenet.predict(X_valid)\n",
    "elif \"lenet.keras\" in os.listdir():\n",
    "    lenet = load_model(\"lenet.keras\")\n",
    "    Y_predicted = lenet.predict(X_valid)\n",
    "else:\n",
    "    print(\"Ther is no model neither trained nor loaded\")"
   ]
  },
  {
   "cell_type": "code",
   "execution_count": 10,
   "id": "8c309712-5728-49f7-9d7e-bd4458d7d100",
   "metadata": {},
   "outputs": [
    {
     "data": {
      "image/png": "[encoded data removed]",
      "text/plain": [
       "<Figure size 640x480 with 2 Axes>"
      ]
     },
     "metadata": {},
     "output_type": "display_data"
    },
    {
     "name": "stdout",
     "output_type": "stream",
     "text": [
      "Accuracy:  0.973\n",
      "Precision: 0.9937369519832986\n",
      "Recall:    0.952\n",
      "F1 score:  0.9724208375893769\n"
     ]
    }
   ],
   "source": [
    "if \"Y_predicted\" in globals():\n",
    "    visualize_result(np.argmax(Y_valid, axis = 1), np.argmax(Y_predicted, axis = 1))"
   ]
  },
  {
   "cell_type": "markdown",
   "id": "29eb2ddc-8707-465e-9a76-2a2c7d8d1435",
   "metadata": {},
   "source": [
    "As we may see, our model is showing very good results. Most images are classified correctly, and all the metrics are higher than 95%, with an F1 score of 97.2%.\n",
    "\n",
    "Now, let's repeat this process with the unbalanced dataset."
   ]
  },
  {
   "cell_type": "code",
   "execution_count": 11,
   "id": "b9c519cc-90ab-46a6-9fea-bce6f07f6215",
   "metadata": {},
   "outputs": [
    {
     "name": "stdout",
     "output_type": "stream",
     "text": [
      "\u001b[1m32/32\u001b[0m \u001b[32m━━━━━━━━━━━━━━━━━━━━\u001b[0m\u001b[37m\u001b[0m \u001b[1m0s\u001b[0m 11ms/step\n"
     ]
    },
    {
     "data": {
      "image/png": "[encoded data removed]",
      "text/plain": [
       "<Figure size 640x480 with 2 Axes>"
      ]
     },
     "metadata": {},
     "output_type": "display_data"
    },
    {
     "name": "stdout",
     "output_type": "stream",
     "text": [
      "Accuracy:  0.992\n",
      "Precision: 0.8235294117647058\n",
      "Recall:    0.9333333333333333\n",
      "F1 score:  0.875\n"
     ]
    }
   ],
   "source": [
    "X_valid, Y_valid = load_test_data(\"valid_unbalanced\")\n",
    "if 'lenet' in globals():\n",
    "    Y_predicted = lenet.predict(X_valid)\n",
    "elif \"lenet.keras\" in os.listdir():\n",
    "    lenet = load_model(\"lenet.keras\")\n",
    "    Y_predicted = lenet.predict(X_valid)\n",
    "else:\n",
    "    print(\"Ther is no model neither trained nor loaded\")\n",
    "if \"Y_predicted\" in globals():\n",
    "    visualize_result(np.argmax(Y_valid, axis = 1), np.argmax(Y_predicted, axis = 1))"
   ]
  },
  {
   "cell_type": "markdown",
   "id": "39ab787d-5120-4305-aeb2-2312acc8db6e",
   "metadata": {},
   "source": [
    "As we can see from the confusion matrix, our model remains a good classifier. It categorized only two images of cracks as normal, while six normal images were labeled as defective. The F1 score is now significantly lower, at 87.5%. This situation arises from a considerable difference in the image quantities: every type I mistake is crucial for counting metrics. Nevertheless, the model's performance is still very high."
   ]
  }
 ],
 "metadata": {
  "kernelspec": {
   "display_name": "Python 3 (ipykernel)",
   "language": "python",
   "name": "python3"
  },
  "language_info": {
   "codemirror_mode": {
    "name": "ipython",
    "version": 3
   },
   "file_extension": ".py",
   "mimetype": "text/x-python",
   "name": "python",
   "nbconvert_exporter": "python",
   "pygments_lexer": "ipython3",
   "version": "3.10.9"
  }
 },
 "nbformat": 4,
 "nbformat_minor": 5
}
